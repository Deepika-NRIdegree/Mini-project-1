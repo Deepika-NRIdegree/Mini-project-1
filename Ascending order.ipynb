{
  "nbformat": 4,
  "nbformat_minor": 0,
  "metadata": {
    "colab": {
      "provenance": [],
      "authorship_tag": "ABX9TyMTj/TqSmvmMks5ESG/c8j4",
      "include_colab_link": true
    },
    "kernelspec": {
      "name": "python3",
      "display_name": "Python 3"
    },
    "language_info": {
      "name": "python"
    }
  },
  "cells": [
    {
      "cell_type": "markdown",
      "metadata": {
        "id": "view-in-github",
        "colab_type": "text"
      },
      "source": [
        "<a href=\"https://colab.research.google.com/github/Deepika-NRIdegree/Mini-project-1/blob/main/Ascending%20order.ipynb\" target=\"_parent\"><img src=\"https://colab.research.google.com/assets/colab-badge.svg\" alt=\"Open In Colab\"/></a>"
      ]
    },
    {
      "cell_type": "code",
      "execution_count": 2,
      "metadata": {
        "colab": {
          "base_uri": "https://localhost:8080/"
        },
        "id": "WtmzHwYzQ24D",
        "outputId": "a23950f0-292f-4237-e75a-f76246075417"
      },
      "outputs": [
        {
          "output_type": "stream",
          "name": "stdout",
          "text": [
            "In ascending order: [4, 7, 8, 10, 15]\n"
          ]
        }
      ],
      "source": [
        "# list of elements to sort\n",
        "l1= [15, 8, 10, 4, 7]\n",
        "l2= []\n",
        "# loop to sort the elements\n",
        "for i in range (len (l1)):\n",
        "\n",
        "    min_val = l1[0]\n",
        "    for j in range (1, len(l1)):\n",
        "        if l1[j] < min_val:\n",
        "         min_val = l1[j]\n",
        "    l2.append(min_val)\n",
        "\n",
        "    l1.remove(min_val)\n",
        "\n",
        "print(\"In ascending order:\",l2)"
      ]
    }
  ]
}