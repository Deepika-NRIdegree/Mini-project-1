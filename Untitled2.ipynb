{
  "nbformat": 4,
  "nbformat_minor": 0,
  "metadata": {
    "colab": {
      "provenance": [],
      "authorship_tag": "ABX9TyPa0tVJ3pxQGAtg8XlhLpHv",
      "include_colab_link": true
    },
    "kernelspec": {
      "name": "python3",
      "display_name": "Python 3"
    },
    "language_info": {
      "name": "python"
    }
  },
  "cells": [
    {
      "cell_type": "markdown",
      "metadata": {
        "id": "view-in-github",
        "colab_type": "text"
      },
      "source": [
        "<a href=\"https://colab.research.google.com/github/Deepika-NRIdegree/Mini-project-1/blob/main/Untitled2.ipynb\" target=\"_parent\"><img src=\"https://colab.research.google.com/assets/colab-badge.svg\" alt=\"Open In Colab\"/></a>"
      ]
    },
    {
      "cell_type": "code",
      "execution_count": null,
      "metadata": {
        "colab": {
          "base_uri": "https://localhost:8080/"
        },
        "id": "lQgR1ToytE22",
        "outputId": "d853fc49-f1b3-465b-bb96-b1d3f59d5198"
      },
      "outputs": [
        {
          "metadata": {
            "tags": null
          },
          "name": "stdout",
          "output_type": "stream",
          "text": [
            "Q1: What is the output of print(2 ** 3)?\n",
            "1. 6\n",
            "2. 8\n",
            "3. 9\n",
            "4. 12\n"
          ]
        }
      ],
      "source": [
        "def quiz():\n",
        "    questions = [\n",
        "        {\n",
        "            \"question\": \"What is the output of print(2 ** 3)?\",\n",
        "            \"options\": [\"6\", \"8\", \"9\", \"12\"],\n",
        "            \"answer\": \"8\"\n",
        "        },\n",
        "        {\n",
        "            \"question\": \"Which of the following is a mutable data type in Python?\",\n",
        "            \"options\": [\"Tuple\", \"String\", \"List\", \"Integer\"],\n",
        "            \"answer\": \"List\"\n",
        "        },\n",
        "        {\n",
        "            \"question\": \"What is the correct file extension for Python files?\",\n",
        "            \"options\": [\".py\", \".python\", \".pt\", \".pyt\"],\n",
        "            \"answer\": \".py\"\n",
        "        },\n",
        "        {\n",
        "            \"question\": \"Which keyword is used to define a function in Python?\",\n",
        "            \"options\": [\"func\", \"def\", \"function\", \"define\"],\n",
        "            \"answer\": \"def\"\n",
        "        },\n",
        "        {\n",
        "            \"question\": \"What is the output of print('Hello' + 'World')?\",\n",
        "            \"options\": [\"Hello World\", \"HelloWorld\", \"Hello+World\", \"Error\"],\n",
        "            \"answer\": \"HelloWorld\"\n",
        "        },\n",
        "        {\n",
        "            \"question\": \"Which of the following is used to create an object in Python?\",\n",
        "            \"options\": [\"class\", \"object\", \"self\", \"new\"],\n",
        "            \"answer\": \"class\"\n",
        "        },\n",
        "        {\n",
        "            \"question\": \"What is the output of print(10 // 3)?\",\n",
        "            \"options\": [\"3.33\", \"3\", \"4\", \"3.0\"],\n",
        "            \"answer\": \"3\"\n",
        "        },\n",
        "        {\n",
        "            \"question\": \"Which of the following is a Python built-in function?\",\n",
        "            \"options\": [\"sqrt()\", \"factorial()\", \"print()\", \"sum()\"],\n",
        "            \"answer\": \"print()\"\n",
        "        },\n",
        "        {\n",
        "            \"question\": \"What is the output of print(len('Python'))?\",\n",
        "            \"options\": [\"5\", \"6\", \"7\", \"Error\"],\n",
        "            \"answer\": \"6\"\n",
        "        },\n",
        "        {\n",
        "            \"question\": \"Which of the following is used to handle exceptions in Python?\",\n",
        "            \"options\": [\"try\", \"except\", \"finally\", \"All of the above\"],\n",
        "            \"answer\": \"All of the above\"\n",
        "        }\n",
        "    ]\n",
        "\n",
        "    score = 0\n",
        "    for i, q in enumerate(questions):\n",
        "        print(f\"Q{i+1}: {q['question']}\")\n",
        "        for j, option in enumerate(q['options']):\n",
        "            print(f\"{j+1}. {option}\")\n",
        "        answer = input(\"Enter the option number: \")\n",
        "        if q['options'][int(answer) - 1] == q['answer']:\n",
        "            score += 10\n",
        "            print(\"Correct!\\n\")\n",
        "        else:\n",
        "            print(f\"Wrong! The correct answer is {q['answer']}\\n\")\n",
        "\n",
        "    print(f\"Your total score is: {score}/100\")\n",
        "\n",
        "if __name__ == \"__main__\":\n",
        "    quiz()"
      ]
    }
  ]
}